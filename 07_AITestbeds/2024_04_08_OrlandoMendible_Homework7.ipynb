{
 "cells": [
  {
   "cell_type": "markdown",
   "metadata": {},
   "source": [
    "### Homework #7 AI Testbeds\n",
    "\n",
    "##### Sambanova\n",
    "https://github.com/omendibleba/ai-science-training-series/tree/main/07_AITestbeds/Sambanova\n",
    "\n",
    "Homework\n",
    "\n",
    "For BERT example, understand flags used in the script. Change values for flag --ntasks and measure its effect on performance.\n",
    "\n",
    "-n, --ntasks=ntasks    defined the   number of tasks to run\n",
    "\n",
    "We compiles and trianed the models using 8, 16 and 32 task, and the duration times were 784,805, and 787 seconds, respectively. NO significant trend is observed with this data on theeffect of the aount of task and the performance. Relvant files are availabel inthe ntask_* folders. \n"
   ]
  },
  {
   "cell_type": "markdown",
   "metadata": {},
   "source": []
  }
 ],
 "metadata": {
  "language_info": {
   "name": "python"
  }
 },
 "nbformat": 4,
 "nbformat_minor": 2
}
