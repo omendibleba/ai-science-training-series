{
  "nbformat": 4,
  "nbformat_minor": 0,
  "metadata": {
    "colab": {
      "provenance": [],
      "gpuType": "T4"
    },
    "kernelspec": {
      "name": "python3",
      "display_name": "Python 3"
    },
    "language_info": {
      "name": "python"
    },
    "accelerator": "GPU"
  },
  "cells": [
    {
      "cell_type": "markdown",
      "source": [
        "# Homework: train a Nonlinear Classifier\n",
        "\n",
        "1. Write some code to train the NonlinearClassifier.\n",
        "2. Create a data loader for the test data and check your model's accuracy on the test data.\n",
        "\n",
        "If you have time, experiment with how to improve the model. Note: training and validation data can be used to compare models, but test data should be saved until the end as a final check of generalization."
      ],
      "metadata": {
        "id": "BSIWUr5qZd5t"
      }
    },
    {
      "cell_type": "code",
      "execution_count": 2,
      "metadata": {
        "id": "NFQPlQiBZOOE"
      },
      "outputs": [],
      "source": [
        "# import libraries\n",
        "%matplotlib inline\n",
        "\n",
        "import torch\n",
        "import torchvision\n",
        "from torch import nn\n",
        "\n",
        "import numpy\n",
        "import matplotlib.pyplot as plt\n",
        "import time"
      ]
    },
    {
      "cell_type": "code",
      "source": [
        "## Get the MNIST training and testign data from torchvision\n",
        "\n",
        "training_data = torchvision.datasets.MNIST(\n",
        "    root=\"data\",\n",
        "    train=True,\n",
        "    download=True,\n",
        "    transform=torchvision.transforms.ToTensor()\n",
        ")\n",
        "\n",
        "test_data = torchvision.datasets.MNIST(\n",
        "    root=\"data\",\n",
        "    train=False,\n",
        "    download=True,\n",
        "    transform=torchvision.transforms.ToTensor()\n",
        ")"
      ],
      "metadata": {
        "id": "f_Gq0HBqamWR"
      },
      "execution_count": 87,
      "outputs": []
    },
    {
      "cell_type": "code",
      "source": [
        "## Devide the training data set into trainig and validation using an 80:20 % division.\n",
        "\n",
        "training_data, validation_data = torch.utils.data.random_split(training_data, [0.8, 0.2], generator=torch.Generator().manual_seed(55))\n",
        "\n",
        "## Print the number of examples in the train and validation datasets. ALso check the shape of each example\n",
        "print('MNIST data loaded: train:',len(training_data),' examples, validation: ', len(validation_data), 'examples, test:',len(test_data), 'examples')\n",
        "print('Input shape', training_data[0][0].shape)"
      ],
      "metadata": {
        "colab": {
          "base_uri": "https://localhost:8080/"
        },
        "id": "JrJ_xc95aw41",
        "outputId": "6a59b617-46e1-43ca-bd12-6ab2604b4075"
      },
      "execution_count": 72,
      "outputs": [
        {
          "output_type": "stream",
          "name": "stdout",
          "text": [
            "MNIST data loaded: train: 30720  examples, validation:  7680 examples, test: 10000 examples\n",
            "Input shape torch.Size([1, 28, 28])\n"
          ]
        }
      ]
    },
    {
      "cell_type": "code",
      "source": [
        "## Vizualize the first 10 training examples\n",
        "pltsize=1\n",
        "plt.figure(figsize=(10*pltsize, pltsize))\n",
        "\n",
        "for i in range(10):\n",
        "    plt.subplot(1,10,i+1)\n",
        "    plt.axis('off')\n",
        "    plt.imshow(numpy.reshape(training_data[i][0], (28, 28)), cmap=\"gray\")\n",
        "    plt.title('Class: '+str(training_data[i][1]))"
      ],
      "metadata": {
        "colab": {
          "base_uri": "https://localhost:8080/",
          "height": 125
        },
        "id": "J5UXLssMbACd",
        "outputId": "b3f34e15-a11c-48b7-ba54-6aa7374beb23"
      },
      "execution_count": 73,
      "outputs": [
        {
          "output_type": "display_data",
          "data": {
            "text/plain": [
              "<Figure size 1000x100 with 10 Axes>"
            ],
            "image/png": "[encoded data removed]"
          },
          "metadata": {}
        }
      ]
    },
    {
      "cell_type": "code",
      "source": [
        "## Create data loaders for trainine and validation.\n",
        "\n",
        "# Define batch size\n",
        "batch_size = 1024\n",
        "\n",
        "# The dataloader makes our dataset iterable\n",
        "train_dataloader = torch.utils.data.DataLoader(training_data, batch_size=batch_size)\n",
        "val_dataloader = torch.utils.data.DataLoader(validation_data, batch_size=batch_size)"
      ],
      "metadata": {
        "id": "l32M_eJgbC1S"
      },
      "execution_count": 84,
      "outputs": []
    },
    {
      "cell_type": "code",
      "source": [
        "## Define the nonlinear classifier\n",
        "class NonlinearClassifier(nn.Module):\n",
        "\n",
        "    def __init__(self):\n",
        "        super().__init__()\n",
        "        self.flatten = nn.Flatten()\n",
        "        self.layers_stack = nn.Sequential(\n",
        "            nn.Linear(28*28, 50), ## 28x28 is the size of the input\n",
        "            nn.ReLU(),\n",
        "            nn.Dropout(0.2),\n",
        "            nn.Linear(50, 50),\n",
        "            nn.ReLU(),\n",
        "            nn.Dropout(0.2),\n",
        "            nn.Linear(50, 10) # Output is 10 becase of 10 classes\n",
        "        )\n",
        "\n",
        "    def forward(self, x):\n",
        "        x = self.flatten(x) ## x is the input tensor (1x28x28). Here it is flattened to a 1D tensor\n",
        "        x = self.layers_stack(x)\n",
        "\n",
        "        return x\n"
      ],
      "metadata": {
        "id": "ZrPtIuabcHQP"
      },
      "execution_count": 75,
      "outputs": []
    },
    {
      "cell_type": "markdown",
      "source": [
        "The forward function in the provided code defines the forward pass of the NonlinearClassifier neural network model. Here's what it does step by step:\n",
        "\n",
        "    1. It takes an input tensor x, which represents the input data to the neural network.\n",
        "\n",
        "    2. It flattens the input tensor x using self.flatten(x). The nn.Flatten() layer reshapes the input tensor into a 1-dimensional tensor. This is necessary because the input to the neural network is typically expected to be a flat vector rather than a multi-dimensional tensor.\n",
        "\n",
        "    3. It passes the flattened tensor through a sequence of fully connected layers defined by self.layers_stack. This sequence includes two hidden layers with ReLU activation functions (nn.ReLU()) followed by fully connected layers. The first fully connected layer has 50 units, and the second fully connected layer reduces the dimensionality to the output size, which is 10 in this case (since there are 10 classes).\n",
        "\n",
        "    4. It returns the output tensor x, which represents the output of the neural network after passing through all the layers in the forward function."
      ],
      "metadata": {
        "id": "dUJ3VrbGdYIs"
      }
    },
    {
      "cell_type": "code",
      "source": [
        "## Define device to allow training on GPU\n",
        "#device = torch.device(\"cuda\" if torch.cuda.is_available() else \"cpu\")\n"
      ],
      "metadata": {
        "id": "CeLGKIqWhDia"
      },
      "execution_count": 76,
      "outputs": []
    },
    {
      "cell_type": "code",
      "source": [
        "# Create an instance of the nonlinear classifier and print the model\n",
        "nonlinear_model = NonlinearClassifier() #.to(device)\n",
        "print(nonlinear_model)"
      ],
      "metadata": {
        "colab": {
          "base_uri": "https://localhost:8080/"
        },
        "id": "wRXR577FdY3C",
        "outputId": "23c2c776-7999-4606-f05f-29af566697f4"
      },
      "execution_count": 77,
      "outputs": [
        {
          "output_type": "stream",
          "name": "stdout",
          "text": [
            "NonlinearClassifier(\n",
            "  (flatten): Flatten(start_dim=1, end_dim=-1)\n",
            "  (layers_stack): Sequential(\n",
            "    (0): Linear(in_features=784, out_features=50, bias=True)\n",
            "    (1): ReLU()\n",
            "    (2): Dropout(p=0.2, inplace=False)\n",
            "    (3): Linear(in_features=50, out_features=50, bias=True)\n",
            "    (4): ReLU()\n",
            "    (5): Dropout(p=0.2, inplace=False)\n",
            "    (6): Linear(in_features=50, out_features=10, bias=True)\n",
            "  )\n",
            ")\n"
          ]
        }
      ]
    },
    {
      "cell_type": "code",
      "source": [],
      "metadata": {
        "id": "5WQPFfBjgGi0"
      },
      "execution_count": 77,
      "outputs": []
    },
    {
      "cell_type": "code",
      "source": [
        "## Define Loss function and optimize\n",
        "loss_fn = nn.CrossEntropyLoss()\n",
        "#optimizer = torch.optim.SGD(nonlinear_model.parameters(), lr=0.01)\n",
        "optimizer = torch.optim.AdamW(nonlinear_model.parameters(), lr=0.01)"
      ],
      "metadata": {
        "id": "w9RXNEQ8fOuk"
      },
      "execution_count": 78,
      "outputs": []
    },
    {
      "cell_type": "code",
      "source": [
        "## Define function to train the model for one epoch\n",
        "def train_one_epoch(dataloader, model, loss_fn, optimizer):\n",
        "    model.train()\n",
        "    for batch, (X, y) in enumerate(dataloader):\n",
        "\n",
        "        # pass the data to the GPU\n",
        "        #X,y = X.to(device),y.to(device)\n",
        "        # forward pass\n",
        "        pred = model(X)\n",
        "        loss = loss_fn(pred, y)\n",
        "\n",
        "        # backward pass calculates gradients\n",
        "        loss.backward()\n",
        "\n",
        "        # take one step with these gradients\n",
        "        optimizer.step()\n",
        "\n",
        "        # resets the gradients\n",
        "        optimizer.zero_grad()"
      ],
      "metadata": {
        "id": "ZfK6E0bQeplE"
      },
      "execution_count": 79,
      "outputs": []
    },
    {
      "cell_type": "code",
      "source": [
        "## Define the function to evaluate the model\n",
        "def evaluate(dataloader, model, loss_fn):\n",
        "    # Set the model to evaluation mode - some NN pieces behave differently during training\n",
        "    # Unnecessary in this situation but added for best practices\n",
        "    model.eval()\n",
        "    size = len(dataloader.dataset)\n",
        "    num_batches = len(dataloader)\n",
        "    loss, correct = 0, 0\n",
        "\n",
        "    # We can save computation and memory by not calculating gradients here - we aren't optimizing\n",
        "    with torch.no_grad():\n",
        "        # loop over all of the batches\n",
        "        for X, y in dataloader:\n",
        "            #X,y = X.to(device),y.to(device)\n",
        "            pred = model(X)\n",
        "            loss += loss_fn(pred, y).item()\n",
        "            # how many are correct in this batch? Tracking for accuracy\n",
        "            correct += (pred.argmax(1) == y).type(torch.float).sum().item()\n",
        "\n",
        "    loss /= num_batches\n",
        "    correct /= size\n",
        "\n",
        "    accuracy = 100*correct\n",
        "    return accuracy, loss"
      ],
      "metadata": {
        "id": "pbE20vGae25o"
      },
      "execution_count": 80,
      "outputs": []
    },
    {
      "cell_type": "code",
      "source": [
        "## Train the model for 5 epochs\n",
        "%%time\n",
        "\n",
        "epochs = 10\n",
        "for j in range(epochs):\n",
        "    train_one_epoch(train_dataloader, nonlinear_model, loss_fn, optimizer)\n",
        "\n",
        "    # checking on the training loss and accuracy once per epoch\n",
        "    acc, loss = evaluate(train_dataloader, nonlinear_model, loss_fn)\n",
        "    print(f\"Epoch {j}: training loss: {loss}, accuracy: {acc}\")"
      ],
      "metadata": {
        "colab": {
          "base_uri": "https://localhost:8080/"
        },
        "id": "Hw_CkxgPfD2X",
        "outputId": "473f8549-34b7-4c80-e2cb-3c01ea34aaed"
      },
      "execution_count": 81,
      "outputs": [
        {
          "output_type": "stream",
          "name": "stdout",
          "text": [
            "Epoch 0: training loss: 0.3143522381782532, accuracy: 90.45572916666667\n",
            "Epoch 1: training loss: 0.20506382683912913, accuracy: 93.837890625\n",
            "Epoch 2: training loss: 0.1636355049908161, accuracy: 95.09114583333333\n",
            "Epoch 3: training loss: 0.1339673010011514, accuracy: 96.03515625\n",
            "Epoch 4: training loss: 0.12203378429015478, accuracy: 96.337890625\n",
            "Epoch 5: training loss: 0.10457645977536838, accuracy: 96.82291666666667\n",
            "Epoch 6: training loss: 0.09184539106984933, accuracy: 97.22005208333333\n",
            "Epoch 7: training loss: 0.08314593496421972, accuracy: 97.40559895833333\n",
            "Epoch 8: training loss: 0.07709618099033833, accuracy: 97.607421875\n",
            "Epoch 9: training loss: 0.07273649846514066, accuracy: 97.77994791666667\n",
            "CPU times: user 1min 7s, sys: 215 ms, total: 1min 8s\n",
            "Wall time: 1min 8s\n"
          ]
        }
      ]
    },
    {
      "cell_type": "markdown",
      "source": [
        "# Inference\n",
        "\n",
        "For a better measure of the quality of the model, let's see the model accuracy for the validation data.\n",
        "\n"
      ],
      "metadata": {
        "id": "JW8RBC9RiP2e"
      }
    },
    {
      "cell_type": "code",
      "source": [
        "acc_val, loss_val = evaluate(val_dataloader, nonlinear_model, loss_fn)\n",
        "print(\"Validation loss: %.4f, validation accuracy: %.2f%%\" % (loss_val, acc_val))"
      ],
      "metadata": {
        "colab": {
          "base_uri": "https://localhost:8080/"
        },
        "id": "7YsVOeX1fzqG",
        "outputId": "7cc2782e-a3de-4507-abd4-a48e1eb8ce89"
      },
      "execution_count": 82,
      "outputs": [
        {
          "output_type": "stream",
          "name": "stdout",
          "text": [
            "Validation loss: 0.1415, validation accuracy: 95.87%\n"
          ]
        }
      ]
    },
    {
      "cell_type": "markdown",
      "source": [
        "Take a look at 10 failed predictions of the model on the validation dataset"
      ],
      "metadata": {
        "id": "NbNaD3f9i4GB"
      }
    },
    {
      "cell_type": "code",
      "source": [
        "def show_failures(model, dataloader, maxtoshow=10):\n",
        "    model.eval()\n",
        "    batch = next(iter(dataloader))\n",
        "\n",
        "    predictions = model(batch[0])\n",
        "\n",
        "    rounded = predictions.argmax(1)\n",
        "    errors = rounded!=batch[1]\n",
        "    print('Showing max', maxtoshow, 'first failures. '\n",
        "          'The predicted class is shown first and the correct class in parentheses.')\n",
        "    ii = 0\n",
        "    plt.figure(figsize=(maxtoshow, 1))\n",
        "    for i in range(batch[0].shape[0]):\n",
        "        if ii>=maxtoshow:\n",
        "            break\n",
        "        if errors[i]:\n",
        "            plt.subplot(1, maxtoshow, ii+1)\n",
        "            plt.axis('off')\n",
        "            plt.imshow(batch[0][i,0,:,:], cmap=\"gray\")\n",
        "            plt.title(\"%d (%d)\" % (rounded[i], batch[1][i]))\n",
        "            ii = ii + 1\n",
        "\n",
        "#Use the function\n",
        "show_failures(nonlinear_model,val_dataloader)"
      ],
      "metadata": {
        "colab": {
          "base_uri": "https://localhost:8080/",
          "height": 162
        },
        "id": "1w-SLTX8iV-t",
        "outputId": "90d5fd00-6e6d-41fe-d74e-471fb3072fad"
      },
      "execution_count": 83,
      "outputs": [
        {
          "output_type": "stream",
          "name": "stdout",
          "text": [
            "Showing max 10 first failures. The predicted class is shown first and the correct class in parentheses.\n"
          ]
        },
        {
          "output_type": "display_data",
          "data": {
            "text/plain": [
              "<Figure size 1000x100 with 10 Axes>"
            ],
            "image/png": "[encoded data removed]"
          },
          "metadata": {}
        }
      ]
    },
    {
      "cell_type": "markdown",
      "source": [
        "## Create data loader for test data to evaluate the model with it."
      ],
      "metadata": {
        "id": "nEKriySlk6am"
      }
    },
    {
      "cell_type": "code",
      "source": [
        "## Create data loaders for test data.\n",
        "# Define batch size\n",
        "batch_size = 1024\n",
        "\n",
        "# The dataloader makes our dataset iterable\n",
        "test_dataloader= torch.utils.data.DataLoader(test_data,batch_size=batch_size)"
      ],
      "metadata": {
        "id": "X93lV72fjT72"
      },
      "execution_count": 88,
      "outputs": []
    },
    {
      "cell_type": "code",
      "source": [
        "## Evaluate the model accuracy with the test data\n",
        "acc_val, loss_val = evaluate(test_dataloader, nonlinear_model, loss_fn)\n",
        "print(\"Validation loss: %.4f, validation accuracy: %.2f%%\" % (loss_val, acc_val))"
      ],
      "metadata": {
        "colab": {
          "base_uri": "https://localhost:8080/"
        },
        "id": "wUooYry0lO27",
        "outputId": "67dba992-f6e2-42c1-f4e0-6ba1a7c2aae1"
      },
      "execution_count": 89,
      "outputs": [
        {
          "output_type": "stream",
          "name": "stdout",
          "text": [
            "Validation loss: 0.1379, validation accuracy: 96.06%\n"
          ]
        }
      ]
    },
    {
      "cell_type": "code",
      "source": [],
      "metadata": {
        "id": "b6B2armQloWt"
      },
      "execution_count": null,
      "outputs": []
    }
  ]
}