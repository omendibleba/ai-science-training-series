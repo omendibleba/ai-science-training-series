{
 "cells": [
  {
   "cell_type": "markdown",
   "metadata": {},
   "source": [
    "Homework\n",
    "\n",
    "What do you think is a particularly good use case for LLMs for science? How would you evaluate it? Your answer does not need to be in paragraphs. When you submit your homework form, you can link to a file in your Github repo where you wrote your answer."
   ]
  },
  {
   "cell_type": "markdown",
   "metadata": {},
   "source": [
    "One of my favorite applications of LLMs for science is the development of Agents and Agent workflows to automate complicated tasks such as generation of simulation input files, analysis of properties and trajectories, and many more. The possibility of having a conversation with an LLM tht can use tools outside of is enviroments will change the way in which complicated tasks are automated. As a rough start the best way I can think of benchmarkihng LLMs in this tasks would be to make the LLM reproduce published results an see how performance is increased in terms of time required to generate and analyze the simulation. It is a very exciting time to work with LLMs and their applications for science and molecular modeling.  "
   ]
  }
 ],
 "metadata": {
  "language_info": {
   "name": "python"
  }
 },
 "nbformat": 4,
 "nbformat_minor": 2
}
